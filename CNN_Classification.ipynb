{
  "nbformat": 4,
  "nbformat_minor": 0,
  "metadata": {
    "kernelspec": {
      "display_name": "Python 3",
      "language": "python",
      "name": "python3"
    },
    "language_info": {
      "codemirror_mode": {
        "name": "ipython",
        "version": 3
      },
      "file_extension": ".py",
      "mimetype": "text/x-python",
      "name": "python",
      "nbconvert_exporter": "python",
      "pygments_lexer": "ipython3",
      "version": "3.7.9"
    },
    "colab": {
      "name": "tp_deep_learning_cnn_part_1_for_students.ipynb",
      "provenance": [],
      "collapsed_sections": []
    },
    "accelerator": "GPU"
  },
  "cells": [
    {
      "cell_type": "markdown",
      "metadata": {
        "id": "7PKVAcrTVdcb"
      },
      "source": [
        "# TP Coding Convolutional Neural Networks in tensorflow/keras\n",
        "\n",
        "\n",
        "## Objective:\n",
        "\n",
        "We want to implement a Convolutional Neural Network (CNN) to do image classification. For this we will use two well-known image datasets :\n",
        "\n",
        "###MNIST\n",
        "\n",
        "Mnist is a dataset of 60,000 28$\\times$28 greyscale images of handwritten digits.\n",
        "\n",
        "### CIFAR 10\n",
        "\n",
        "CIFAR-10 dataset https://www.cs.toronto.edu/~kriz/cifar.html.\n",
        "\n",
        "The CIFAR-10 dataset consists of 60000 32x32 colour images in 10 classes, with 6000 images per class. There are 50000 training images and 10000 test images."
      ]
    },
    {
      "cell_type": "markdown",
      "metadata": {
        "id": "mIMQxnyAVdcb"
      },
      "source": [
        "# Load packages"
      ]
    },
    {
      "cell_type": "code",
      "metadata": {
        "id": "4r-L5nzGVdcc",
        "outputId": "70bc94c1-53f7-4705-8b19-2b1d0fef7b92",
        "colab": {
          "base_uri": "https://localhost:8080/"
        }
      },
      "source": [
        "%matplotlib inline\n",
        "import matplotlib.pyplot as plt\n",
        "import numpy as np\n",
        "\n",
        "import tensorflow as tf\n",
        "from tensorflow.keras.utils import to_categorical\n",
        "\n",
        "from tensorflow.keras.models import Sequential, Model\n",
        "from tensorflow.keras.layers import Dense, Dropout, Activation, Flatten, Input\n",
        "from tensorflow.keras.layers import Conv2D, MaxPooling2D\n",
        "from tensorflow.keras import optimizers\n",
        "print(tf.keras.__version__)\n"
      ],
      "execution_count": null,
      "outputs": [
        {
          "output_type": "stream",
          "text": [
            "2.4.0\n"
          ],
          "name": "stdout"
        }
      ]
    },
    {
      "cell_type": "markdown",
      "metadata": {
        "id": "BPkKAA3NVdcf"
      },
      "source": [
        "## Import data\n",
        "\n",
        "We are going to start with the mnist dataset. The mnist dataset has 10 classes which go from \"0\" to \"9\" (all the digits). We are going to truncate the number of elements in the database for faster training. Note that \"scalar\" means that the class is encoded as a scalar, rather than as a one-hot vector (we do the conversion afterwards)."
      ]
    },
    {
      "cell_type": "code",
      "metadata": {
        "id": "pdsR8TgupAmR",
        "outputId": "5a723d6a-8158-4700-eca5-ccf0a08e29f5",
        "colab": {
          "base_uri": "https://localhost:8080/"
        }
      },
      "source": [
        "\n",
        "from keras.datasets import mnist\n",
        "(X_train, Y_train_scalar), (X_test, Y_test_scalar) = mnist.load_data()\n",
        "\n",
        "n_max = 5000\n",
        "X_train = X_train[0:n_max,:,:]\n",
        "X_test = X_test[0:n_max,:,:]\n",
        "Y_train_scalar = Y_train_scalar[0:n_max]\n",
        "Y_test_scalar = Y_test_scalar[0:n_max]\n",
        "\n",
        "mnist_label_list = [ '0', '1','2','3','4','5','6','7','8','9']\n",
        "\n",
        "print(X_train.shape)\n",
        "print(X_test.shape)\n",
        "print(np.unique(Y_train_scalar))"
      ],
      "execution_count": null,
      "outputs": [
        {
          "output_type": "stream",
          "text": [
            "Downloading data from https://storage.googleapis.com/tensorflow/tf-keras-datasets/mnist.npz\n",
            "11493376/11490434 [==============================] - 0s 0us/step\n",
            "(5000, 28, 28)\n",
            "(5000, 28, 28)\n",
            "[0 1 2 3 4 5 6 7 8 9]\n"
          ],
          "name": "stdout"
        }
      ]
    },
    {
      "cell_type": "markdown",
      "metadata": {
        "id": "L7pZ6hCQp41Y"
      },
      "source": [
        "Now, let's look at some of the data :"
      ]
    },
    {
      "cell_type": "code",
      "metadata": {
        "id": "_fe0vyM0pYe7",
        "outputId": "62d5e397-e3e2-439e-d5ef-70d69fc1d82f",
        "colab": {
          "base_uri": "https://localhost:8080/",
          "height": 338
        }
      },
      "source": [
        "plt.figure(figsize=(10, 6))\n",
        "for idx in range(0,10):\n",
        "    plt.subplot(2, 5, idx+1)\n",
        "    rand_ind = np.random.randint(0,X_train.shape[0])\n",
        "    plt.imshow(X_test[rand_ind,:,:],cmap='gray')\n",
        "    plt.title(mnist_label_list[int(Y_test_scalar[rand_ind])])\n"
      ],
      "execution_count": null,
      "outputs": [
        {
          "output_type": "display_data",
          "data": {
            "image/png": "[encoded data removed]",
            "text/plain": [
              "<Figure size 720x432 with 10 Axes>"
            ]
          },
          "metadata": {
            "tags": [],
            "needs_background": "light"
          }
        }
      ]
    },
    {
      "cell_type": "markdown",
      "metadata": {
        "id": "NRIydd6-qOVR"
      },
      "source": [
        "Now, we carry out some data pre-processing. In particular, we normalise the data to the range $[0,1]$ and convert the labels to a one-hot encoding :"
      ]
    },
    {
      "cell_type": "code",
      "metadata": {
        "id": "112VYdfgrHDl",
        "outputId": "69aec841-8a28-4130-a6c4-24ed5bb35601",
        "colab": {
          "base_uri": "https://localhost:8080/"
        }
      },
      "source": [
        "# input image dimensions (mnist data is grey-level)\n",
        "img_rows, img_cols, nb_channels = X_train.shape[1], X_train.shape[2], 1\n",
        "\n",
        "# In case depth is 1 (black and white pictures) -> reshape to proper format\n",
        "X_train = X_train.reshape(X_train.shape[0], img_rows, img_cols, nb_channels)\n",
        "X_test = X_test.reshape(X_test.shape[0], img_rows, img_cols, nb_channels)\n",
        "\n",
        "X_train = X_train.astype('float32')\n",
        "X_test = X_test.astype('float32')\n",
        "X_train /= 255\n",
        "X_test /= 255\n",
        "\n",
        "Y_train = to_categorical(Y_train_scalar)\n",
        "Y_test = to_categorical(Y_test_scalar)\n",
        "\n",
        "# number of classes\n",
        "nb_classes = Y_train.shape[1]\n",
        "\n",
        "print('X_train shape:', X_train.shape)\n",
        "#print('y_train shape:', y_train.shape)\n",
        "print('Y_train shape:', Y_train.shape)\n",
        "print('There are {} train data'.format(X_train.shape[0]))\n",
        "print('There are {} test data'.format(X_test.shape[0]))\n",
        "print(img_rows, img_cols, nb_channels)\n"
      ],
      "execution_count": null,
      "outputs": [
        {
          "output_type": "stream",
          "text": [
            "X_train shape: (5000, 28, 28, 1)\n",
            "Y_train shape: (5000, 10)\n",
            "There are 5000 train data\n",
            "There are 5000 test data\n",
            "28 28 1\n"
          ],
          "name": "stdout"
        }
      ]
    },
    {
      "cell_type": "markdown",
      "metadata": {
        "id": "slZYGH1ysFwj"
      },
      "source": [
        "## Defining the model for MNIST\n",
        "\n",
        "We define the parameters of the model :"
      ]
    },
    {
      "cell_type": "code",
      "metadata": {
        "id": "J1MPFemUrDg4"
      },
      "source": [
        "learning_rate = 0.01\n",
        "n_epochs = 10\n",
        "batch_size = 64\n",
        "\n",
        "# number of convolutional filters to use\n",
        "nb_filters = 32\n",
        "# convolution kernel size\n",
        "kernel_size = (3, 3)\n",
        "# size of pooling area for max pooling\n",
        "pool_size = (2, 2)\n",
        "\n",
        "# --- Size of the successive layers\n",
        "n_h_0 = nb_channels  # number of input channels\n",
        "n_h_1 = nb_filters\n",
        "n_h_2 = nb_filters"
      ],
      "execution_count": null,
      "outputs": []
    },
    {
      "cell_type": "code",
      "metadata": {
        "id": "nzWrY8nrsx62"
      },
      "source": [
        "model = Sequential()\n",
        "\n",
        "model.add(Conv2D(n_h_1, kernel_size, strides=(1, 1), padding='same', input_shape=(28, 28, n_h_0), name='Conv_1'))\n",
        "model.add(Activation('relu', name='RELU_1'))\n",
        "\n",
        "model.add(Conv2D(n_h_2, kernel_size, padding='same', name='Conv_2'))\n",
        "model.add(Activation('relu', name='RELU_2'))\n",
        "model.add(MaxPooling2D(pool_size=pool_size, strides=(2, 2), name='pool_1'))\n",
        "\n",
        "model.add(Flatten(name='Flat'))\n",
        "model.add(Dense(nb_classes, name='Dense'))\n",
        "model.add(Activation('softmax', name='SOFTMAX'))"
      ],
      "execution_count": null,
      "outputs": []
    },
    {
      "cell_type": "code",
      "metadata": {
        "id": "q61ACIG2thbI",
        "outputId": "948d2a6c-5d72-4f07-fc8e-b5350dca3704",
        "colab": {
          "base_uri": "https://localhost:8080/"
        }
      },
      "source": [
        "model.compile(loss='categorical_crossentropy',\n",
        "              optimizer=optimizers.Adam(lr=learning_rate),\n",
        "              metrics=['accuracy'])\n",
        "\n",
        "model.summary()\n",
        "\n",
        "model.fit(X_train,\n",
        "          Y_train,\n",
        "          batch_size=batch_size, \n",
        "          epochs=n_epochs,\n",
        "          verbose=1, \n",
        "          validation_data=(X_test, Y_test))\n",
        "\n",
        "score = model.evaluate(X_test, Y_test, verbose=False)\n",
        "print('Test loss:', score[0])\n",
        "print('Test accuracy:', score[1])"
      ],
      "execution_count": null,
      "outputs": [
        {
          "output_type": "stream",
          "text": [
            "Model: \"sequential\"\n",
            "_________________________________________________________________\n",
            "Layer (type)                 Output Shape              Param #   \n",
            "=================================================================\n",
            "Conv_1 (Conv2D)              (None, 28, 28, 32)        320       \n",
            "_________________________________________________________________\n",
            "RELU_1 (Activation)          (None, 28, 28, 32)        0         \n",
            "_________________________________________________________________\n",
            "Conv_2 (Conv2D)              (None, 28, 28, 32)        9248      \n",
            "_________________________________________________________________\n",
            "RELU_2 (Activation)          (None, 28, 28, 32)        0         \n",
            "_________________________________________________________________\n",
            "pool_1 (MaxPooling2D)        (None, 14, 14, 32)        0         \n",
            "_________________________________________________________________\n",
            "Flat (Flatten)               (None, 6272)              0         \n",
            "_________________________________________________________________\n",
            "Dense (Dense)                (None, 10)                62730     \n",
            "_________________________________________________________________\n",
            "SOFTMAX (Activation)         (None, 10)                0         \n",
            "=================================================================\n",
            "Total params: 72,298\n",
            "Trainable params: 72,298\n",
            "Non-trainable params: 0\n",
            "_________________________________________________________________\n",
            "Epoch 1/10\n",
            "79/79 [==============================] - 1s 9ms/step - loss: 0.4630 - accuracy: 0.8608 - val_loss: 0.2347 - val_accuracy: 0.9220\n",
            "Epoch 2/10\n",
            "79/79 [==============================] - 0s 6ms/step - loss: 0.1044 - accuracy: 0.9696 - val_loss: 0.1834 - val_accuracy: 0.9406\n",
            "Epoch 3/10\n",
            "79/79 [==============================] - 0s 6ms/step - loss: 0.0531 - accuracy: 0.9830 - val_loss: 0.1881 - val_accuracy: 0.9470\n",
            "Epoch 4/10\n",
            "79/79 [==============================] - 0s 6ms/step - loss: 0.0258 - accuracy: 0.9924 - val_loss: 0.2342 - val_accuracy: 0.9394\n",
            "Epoch 5/10\n",
            "79/79 [==============================] - 0s 6ms/step - loss: 0.0187 - accuracy: 0.9936 - val_loss: 0.2444 - val_accuracy: 0.9484\n",
            "Epoch 6/10\n",
            "79/79 [==============================] - 0s 6ms/step - loss: 0.0297 - accuracy: 0.9902 - val_loss: 0.2837 - val_accuracy: 0.9334\n",
            "Epoch 7/10\n",
            "79/79 [==============================] - 0s 6ms/step - loss: 0.0313 - accuracy: 0.9898 - val_loss: 0.2487 - val_accuracy: 0.9486\n",
            "Epoch 8/10\n",
            "79/79 [==============================] - 0s 6ms/step - loss: 0.0266 - accuracy: 0.9912 - val_loss: 0.2306 - val_accuracy: 0.9500\n",
            "Epoch 9/10\n",
            "79/79 [==============================] - 0s 6ms/step - loss: 0.0110 - accuracy: 0.9968 - val_loss: 0.2426 - val_accuracy: 0.9508\n",
            "Epoch 10/10\n",
            "79/79 [==============================] - 0s 6ms/step - loss: 0.0041 - accuracy: 0.9988 - val_loss: 0.2248 - val_accuracy: 0.9578\n",
            "Test loss: 0.22476276755332947\n",
            "Test accuracy: 0.9577999711036682\n"
          ],
          "name": "stdout"
        }
      ]
    },
    {
      "cell_type": "markdown",
      "metadata": {
        "id": "HMXvoBa2xsZe"
      },
      "source": [
        "## 2/ CNN on CIFAR10"
      ]
    },
    {
      "cell_type": "markdown",
      "metadata": {
        "id": "1fnyiIdsoYzS"
      },
      "source": [
        "### Import data"
      ]
    },
    {
      "cell_type": "code",
      "metadata": {
        "id": "ldCeqiu0Vdcg",
        "outputId": "aed7f025-e5a3-4446-8969-eef7b0ac5abf",
        "colab": {
          "base_uri": "https://localhost:8080/"
        }
      },
      "source": [
        "from tensorflow.keras.datasets import cifar10\n",
        "(X_train, Y_train_scalar), (X_test, Y_test_scalar) = cifar10.load_data()\n",
        "\n",
        "print(\"Train data shape : \", X_train.shape)\n",
        "print(\"Test data shape : \", X_test.shape)\n",
        "print(\"Number of data categories : \", np.unique(Y_train_scalar))"
      ],
      "execution_count": null,
      "outputs": [
        {
          "output_type": "stream",
          "text": [
            "Downloading data from https://www.cs.toronto.edu/~kriz/cifar-10-python.tar.gz\n",
            "170500096/170498071 [==============================] - 2s 0us/step\n",
            "Train data shape :  (50000, 32, 32, 3)\n",
            "Test data shape :  (10000, 32, 32, 3)\n",
            "Number of data categories :  [0 1 2 3 4 5 6 7 8 9]\n"
          ],
          "name": "stdout"
        }
      ]
    },
    {
      "cell_type": "markdown",
      "metadata": {
        "id": "FmE6agVqVdcj"
      },
      "source": [
        "The CIFAR-10 dataset has 10 classes. These are the following :"
      ]
    },
    {
      "cell_type": "code",
      "metadata": {
        "id": "DeuLaea5Vdcj"
      },
      "source": [
        "cifar_10_list = [ 'airplane', 'automobile','bird','cat','deer','dog','frog','horse','ship','truck']"
      ],
      "execution_count": null,
      "outputs": []
    },
    {
      "cell_type": "markdown",
      "metadata": {
        "id": "yF_wRtfNVdcm"
      },
      "source": [
        "### Display some of the images"
      ]
    },
    {
      "cell_type": "code",
      "metadata": {
        "id": "WB6nQcjAVdcm",
        "outputId": "92dc0b22-6adc-4ce0-a496-db94373537fd",
        "colab": {
          "base_uri": "https://localhost:8080/",
          "height": 338
        }
      },
      "source": [
        "plt.figure(figsize=(10, 6))\n",
        "for idx,i in enumerate(range(100,110)):\n",
        "    plt.subplot(2, 5, idx+1)\n",
        "    plt.imshow(X_train[i, :, :, :])\n",
        "    plt.title(cifar_10_list[int(Y_train_scalar[i])])"
      ],
      "execution_count": null,
      "outputs": [
        {
          "output_type": "display_data",
          "data": {
            "image/png": "[encoded data removed]",
            "text/plain": [
              "<Figure size 720x432 with 10 Axes>"
            ]
          },
          "metadata": {
            "tags": [],
            "needs_background": "light"
          }
        }
      ]
    },
    {
      "cell_type": "markdown",
      "metadata": {
        "id": "ZPtW0s-pVdcp"
      },
      "source": [
        "As we can see, the images are in quite small resolution. This makes them more easy to handle computationally, however it also means that they are quite difficult to analyse, even for a human being. Therefore, __we might not get that great accuracy scores__. The goal is not to get great scores (this would take longer training and potentially a larger network)."
      ]
    },
    {
      "cell_type": "markdown",
      "metadata": {
        "id": "JvNQiBcsVdcp"
      },
      "source": [
        "## Format conversion"
      ]
    },
    {
      "cell_type": "code",
      "metadata": {
        "id": "NLf4-_eQVdcq",
        "outputId": "f6be98d9-6dbf-4380-c89e-e695fbabbfdd",
        "colab": {
          "base_uri": "https://localhost:8080/"
        }
      },
      "source": [
        "# input image dimensions\n",
        "img_rows, img_cols, nb_channels = 32, 32, 3\n",
        "nb_classes = 10\n",
        "\n",
        "# In case depth is 1 (black and white pictures) -> reshape to proper format\n",
        "X_train = X_train.reshape(X_train.shape[0], img_rows, img_cols, nb_channels)\n",
        "X_test = X_test.reshape(X_test.shape[0], img_rows, img_cols, nb_channels)\n",
        "\n",
        "X_train = X_train.astype('float32')\n",
        "X_test = X_test.astype('float32')\n",
        "X_train /= 255\n",
        "X_test /= 255\n",
        "\n",
        "# convert to one-hot encoding\n",
        "Y_train = to_categorical(Y_train_scalar)\n",
        "Y_test = to_categorical(Y_test_scalar)\n",
        "\n",
        "print('X_train shape:', X_train.shape)\n",
        "print('Y_train_scalar shape:', Y_train_scalar.shape)\n",
        "print('Y_train shape (one hot encoding):', Y_train.shape)\n",
        "print('There is {} train data'.format(X_train.shape[0]))\n",
        "print('There is {} test data'.format(X_test.shape[0]))\n",
        "print(img_rows, img_cols, nb_channels)"
      ],
      "execution_count": null,
      "outputs": [
        {
          "output_type": "stream",
          "text": [
            "X_train shape: (50000, 32, 32, 3)\n",
            "Y_train_scalar shape: (50000, 1)\n",
            "Y_train shape (one hot encoding): (50000, 10)\n",
            "There is 50000 train data\n",
            "There is 10000 test data\n",
            "32 32 3\n"
          ],
          "name": "stdout"
        }
      ]
    },
    {
      "cell_type": "markdown",
      "metadata": {
        "id": "cIJggytbVdcs"
      },
      "source": [
        "For computational reasons, we are going to reduce the amount of training data :"
      ]
    },
    {
      "cell_type": "code",
      "metadata": {
        "id": "ml557ypyVdcs",
        "outputId": "1621078c-fe66-4693-fa26-72e14ca0ef9f",
        "colab": {
          "base_uri": "https://localhost:8080/"
        }
      },
      "source": [
        "n_train_samples = 10000\n",
        "X_train = X_train[0:n_train_samples,:,:,:]\n",
        "Y_train = Y_train[0:n_train_samples,:]\n",
        "print(X_train.shape)\n",
        "print(Y_train.shape)"
      ],
      "execution_count": null,
      "outputs": [
        {
          "output_type": "stream",
          "text": [
            "(10000, 32, 32, 3)\n",
            "(10000, 10)\n"
          ],
          "name": "stdout"
        }
      ]
    },
    {
      "cell_type": "markdown",
      "metadata": {
        "id": "VhYIugXfVdcv"
      },
      "source": [
        "\n",
        "\n",
        "We are now going to create the model described just above, and train it on the previously loaded CIFAR dataset.\n",
        "\n",
        "## We define the parameters of the model, and of the training"
      ]
    },
    {
      "cell_type": "code",
      "metadata": {
        "id": "3CR4DnDfVdcw"
      },
      "source": [
        "\n",
        "learning_rate = 0.01\n",
        "n_epochs = 20\n",
        "batch_size = 64\n",
        "# number of convolutional filters to use\n",
        "nb_filters = 32 \n",
        "\n",
        "# convolution kernel size\n",
        "kernel_size = (3, 3)\n",
        "# size of pooling area for max pooling\n",
        "pool_size = (2, 2)\n",
        "\n",
        "\n",
        "# --- Size of the successice layers\n",
        "n_h_0 = nb_channels\n",
        "n_h_1 = nb_filters\n",
        "n_h_2 = nb_filters\n",
        "n_h_3 = nb_filters\n",
        "\n",
        "input_shape = (img_rows, img_cols, nb_channels)\n"
      ],
      "execution_count": null,
      "outputs": []
    },
    {
      "cell_type": "markdown",
      "metadata": {
        "id": "xaIkcutSVdcy"
      },
      "source": [
        "Now, define the model :"
      ]
    },
    {
      "cell_type": "code",
      "metadata": {
        "id": "mVsNB3l-Vdcy"
      },
      "source": [
        "model = Sequential()\n",
        "\n",
        "model.add(Conv2D(nb_filters, kernel_size, strides=(1, 1), padding='same', input_shape=(img_rows, img_cols, nb_channels), name='Conv_1'))\n",
        "model.add(Activation('relu', name='RELU_1'))\n",
        "\n",
        "model.add(Conv2D(nb_filters, kernel_size, padding='same', name='Conv_2'))\n",
        "model.add(Activation('relu', name='RELU_2'))\n",
        "model.add(MaxPooling2D(pool_size=pool_size, strides=(2, 2), name='pool_2'))\n",
        "\n",
        "model.add(Conv2D(nb_filters, kernel_size, padding='same', name='Conv_3'))\n",
        "model.add(Activation('relu', name='RELU_3'))\n",
        "model.add(MaxPooling2D(pool_size=pool_size, name='pool_3'))\n",
        "\n",
        "model.add(Flatten(name='FLAT'))\n",
        "model.add(Dense(nb_classes, name='DENSE'))\n",
        "model.add(Activation('softmax', name='SOFTMAX'))"
      ],
      "execution_count": null,
      "outputs": []
    },
    {
      "cell_type": "code",
      "metadata": {
        "id": "gqdIoVk0Vdc1",
        "outputId": "6c8b6b04-6e17-477a-83b1-024dbfbf6640",
        "colab": {
          "base_uri": "https://localhost:8080/"
        }
      },
      "source": [
        "model.compile(loss='categorical_crossentropy',\n",
        "              optimizer=optimizers.Adam(lr=learning_rate),\n",
        "              metrics=['accuracy'])\n",
        "\n",
        "model.summary()\n",
        "\n",
        "model.fit(X_train,\n",
        "          Y_train,\n",
        "          batch_size=batch_size, \n",
        "          epochs=n_epochs,\n",
        "          verbose=1, \n",
        "          validation_data=(X_test, Y_test))"
      ],
      "execution_count": null,
      "outputs": [
        {
          "output_type": "stream",
          "text": [
            "Model: \"sequential_1\"\n",
            "_________________________________________________________________\n",
            "Layer (type)                 Output Shape              Param #   \n",
            "=================================================================\n",
            "Conv_1 (Conv2D)              (None, 32, 32, 32)        896       \n",
            "_________________________________________________________________\n",
            "RELU_1 (Activation)          (None, 32, 32, 32)        0         \n",
            "_________________________________________________________________\n",
            "Conv_2 (Conv2D)              (None, 32, 32, 32)        9248      \n",
            "_________________________________________________________________\n",
            "RELU_2 (Activation)          (None, 32, 32, 32)        0         \n",
            "_________________________________________________________________\n",
            "pool_2 (MaxPooling2D)        (None, 16, 16, 32)        0         \n",
            "_________________________________________________________________\n",
            "Conv_3 (Conv2D)              (None, 16, 16, 32)        9248      \n",
            "_________________________________________________________________\n",
            "RELU_3 (Activation)          (None, 16, 16, 32)        0         \n",
            "_________________________________________________________________\n",
            "pool_3 (MaxPooling2D)        (None, 8, 8, 32)          0         \n",
            "_________________________________________________________________\n",
            "FLAT (Flatten)               (None, 2048)              0         \n",
            "_________________________________________________________________\n",
            "DENSE (Dense)                (None, 10)                20490     \n",
            "_________________________________________________________________\n",
            "SOFTMAX (Activation)         (None, 10)                0         \n",
            "=================================================================\n",
            "Total params: 39,882\n",
            "Trainable params: 39,882\n",
            "Non-trainable params: 0\n",
            "_________________________________________________________________\n",
            "Epoch 1/20\n",
            "157/157 [==============================] - 1s 9ms/step - loss: 2.0827 - accuracy: 0.2494 - val_loss: 1.8983 - val_accuracy: 0.3135\n",
            "Epoch 2/20\n",
            "157/157 [==============================] - 1s 7ms/step - loss: 1.8282 - accuracy: 0.3473 - val_loss: 1.8132 - val_accuracy: 0.3568\n",
            "Epoch 3/20\n",
            "157/157 [==============================] - 1s 7ms/step - loss: 1.7414 - accuracy: 0.3833 - val_loss: 1.7147 - val_accuracy: 0.3908\n",
            "Epoch 4/20\n",
            "157/157 [==============================] - 1s 7ms/step - loss: 1.6804 - accuracy: 0.4058 - val_loss: 1.7618 - val_accuracy: 0.3808\n",
            "Epoch 5/20\n",
            "157/157 [==============================] - 1s 7ms/step - loss: 1.6357 - accuracy: 0.4199 - val_loss: 1.7080 - val_accuracy: 0.3933\n",
            "Epoch 6/20\n",
            "157/157 [==============================] - 1s 7ms/step - loss: 1.5800 - accuracy: 0.4453 - val_loss: 1.7069 - val_accuracy: 0.4038\n",
            "Epoch 7/20\n",
            "157/157 [==============================] - 1s 7ms/step - loss: 1.5575 - accuracy: 0.4527 - val_loss: 1.6225 - val_accuracy: 0.4313\n",
            "Epoch 8/20\n",
            "157/157 [==============================] - 1s 7ms/step - loss: 1.5119 - accuracy: 0.4678 - val_loss: 1.5823 - val_accuracy: 0.4393\n",
            "Epoch 9/20\n",
            "157/157 [==============================] - 1s 7ms/step - loss: 1.5014 - accuracy: 0.4719 - val_loss: 1.6190 - val_accuracy: 0.4301\n",
            "Epoch 10/20\n",
            "157/157 [==============================] - 1s 7ms/step - loss: 1.4717 - accuracy: 0.4836 - val_loss: 1.6270 - val_accuracy: 0.4312\n",
            "Epoch 11/20\n",
            "157/157 [==============================] - 1s 7ms/step - loss: 1.4511 - accuracy: 0.4855 - val_loss: 1.6011 - val_accuracy: 0.4296\n",
            "Epoch 12/20\n",
            "157/157 [==============================] - 1s 7ms/step - loss: 1.4177 - accuracy: 0.5037 - val_loss: 1.5815 - val_accuracy: 0.4447\n",
            "Epoch 13/20\n",
            "157/157 [==============================] - 1s 7ms/step - loss: 1.4136 - accuracy: 0.5027 - val_loss: 1.6742 - val_accuracy: 0.4270\n",
            "Epoch 14/20\n",
            "157/157 [==============================] - 1s 7ms/step - loss: 1.3986 - accuracy: 0.5027 - val_loss: 1.5360 - val_accuracy: 0.4559\n",
            "Epoch 15/20\n",
            "157/157 [==============================] - 1s 7ms/step - loss: 1.3946 - accuracy: 0.5077 - val_loss: 1.5470 - val_accuracy: 0.4541\n",
            "Epoch 16/20\n",
            "157/157 [==============================] - 1s 7ms/step - loss: 1.3753 - accuracy: 0.5157 - val_loss: 1.6252 - val_accuracy: 0.4429\n",
            "Epoch 17/20\n",
            "157/157 [==============================] - 1s 7ms/step - loss: 1.3691 - accuracy: 0.5183 - val_loss: 1.5559 - val_accuracy: 0.4581\n",
            "Epoch 18/20\n",
            "157/157 [==============================] - 1s 7ms/step - loss: 1.3510 - accuracy: 0.5250 - val_loss: 1.5187 - val_accuracy: 0.4665\n",
            "Epoch 19/20\n",
            "157/157 [==============================] - 1s 7ms/step - loss: 1.3531 - accuracy: 0.5211 - val_loss: 1.5406 - val_accuracy: 0.4624\n",
            "Epoch 20/20\n",
            "157/157 [==============================] - 1s 7ms/step - loss: 1.3295 - accuracy: 0.5286 - val_loss: 1.5710 - val_accuracy: 0.4616\n"
          ],
          "name": "stdout"
        },
        {
          "output_type": "execute_result",
          "data": {
            "text/plain": [
              "<tensorflow.python.keras.callbacks.History at 0x7f06d007dba8>"
            ]
          },
          "metadata": {
            "tags": []
          },
          "execution_count": 15
        }
      ]
    },
    {
      "cell_type": "markdown",
      "metadata": {
        "id": "26RA5S8nVdc-"
      },
      "source": [
        "Evaluate the performances of the model on the test data\n",
        "\n",
        "\n"
      ]
    },
    {
      "cell_type": "code",
      "metadata": {
        "id": "3K40PBXAVdc_",
        "outputId": "0a52dfd2-b9a3-4d2b-9bac-d74fb74fa6dc",
        "colab": {
          "base_uri": "https://localhost:8080/"
        }
      },
      "source": [
        "score = model.evaluate(X_test, Y_test, verbose=False)\n",
        "print('Test loss:', score[0])\n",
        "print('Test accuracy:', score[1])"
      ],
      "execution_count": null,
      "outputs": [
        {
          "output_type": "stream",
          "text": [
            "Test loss: 1.570998191833496\n",
            "Test accuracy: 0.46160000562667847\n"
          ],
          "name": "stdout"
        }
      ]
    },
    {
      "cell_type": "markdown",
      "metadata": {
        "id": "kLFIFGUGW7MB"
      },
      "source": [
        "The train accuracy after 20 epochs should be around 0.4-0.5 (on the test data).\n",
        "\n",
        "Well 0.5 is not great, its true, but it's not that bad considering there are 10 categories. A random choice would give an accuracy of 0.1. However, there are several points to consider here :\n",
        "\n",
        "- The data is more complex than that of mnist for example : there are a lot more variations of \"dog\"s than \"1\"s. Therefore, the network has to be larger\n",
        "- The resolution is  32$\\times$32, therefore even for humans it is difficult to recognise some of the images\n",
        "- Unfortunately, when we start dealing with larger networks, the possibilities for falling into local minima become more and more present. There is no way around this more the moment, due to lack of theoretical understanding.\n",
        "\n"
      ]
    },
    {
      "cell_type": "markdown",
      "metadata": {
        "id": "VrDkWLFhVddB"
      },
      "source": [
        "### Inspecting the network's results\n",
        "\n",
        "Let's take a look at what the network has learned."
      ]
    },
    {
      "cell_type": "code",
      "metadata": {
        "id": "GD3n19mPVddB",
        "outputId": "33ac5ba0-24df-4297-c7a6-d2c3b8914417",
        "colab": {
          "base_uri": "https://localhost:8080/",
          "height": 338
        }
      },
      "source": [
        "plt.figure(figsize=(10, 6))\n",
        "for idx,i in enumerate(range(100,110)):\n",
        "    plt.subplot(2, 5, idx+1)\n",
        "    rand_ind = np.random.randint(0,X_test.shape[0])\n",
        "    predicted_class = np.argmax(model.predict((X_test[rand_ind,:,:,:].reshape(1,32, 32, 3))))\n",
        "    plt.imshow(X_test[rand_ind,:,:,:])\n",
        "    plt.title(cifar_10_list[int(predicted_class)])"
      ],
      "execution_count": null,
      "outputs": [
        {
          "output_type": "display_data",
          "data": {
            "image/png": "[encoded data removed]",
            "text/plain": [
              "<Figure size 720x432 with 10 Axes>"
            ]
          },
          "metadata": {
            "tags": [],
            "needs_background": "light"
          }
        }
      ]
    }
  ]
}